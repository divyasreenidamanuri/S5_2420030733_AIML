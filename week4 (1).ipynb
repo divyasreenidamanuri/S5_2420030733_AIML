{
  "nbformat": 4,
  "nbformat_minor": 0,
  "metadata": {
    "colab": {
      "provenance": []
    },
    "kernelspec": {
      "name": "python3",
      "display_name": "Python 3"
    },
    "language_info": {
      "name": "python"
    }
  },
  "cells": [
    {
      "cell_type": "code",
      "execution_count": null,
      "metadata": {
        "id": "hjw-3TXJn5qT"
      },
      "outputs": [],
      "source": [
        "mport pandas as pd\n",
        "from sklearn.preprocessing import MinMaxScaler\n",
        "\n",
        "data_dict = {'A': [1, None, 3, 4, None], 'B': [4, 5, None, 7, 8]}\n",
        "df = pd.DataFrame(data_dict)\n",
        "\n",
        "df_cleaned = df.fillna(0)\n",
        "\n",
        "scaler = MinMaxScaler()\n",
        "scaled_array = scaler.fit_transform(df_cleaned)\n",
        "\n",
        "scaled_df = pd.DataFrame(scaled_array, columns=df.columns)\n",
        "print(\"Scaled DataFrame:\")\n",
        "print(scaled_df)\n"
      ]
    }
  ]
}